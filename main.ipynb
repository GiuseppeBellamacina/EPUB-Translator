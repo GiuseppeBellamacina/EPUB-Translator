{
 "cells": [
  {
   "cell_type": "code",
   "execution_count": null,
   "id": "67903eac",
   "metadata": {},
   "outputs": [],
   "source": [
    "from ebooklib import epub\n",
    "from langchain_openai import ChatOpenAI\n",
    "from dotenv import load_dotenv, find_dotenv\n",
    "from epub_translator import translate_book, translate_with_translator\n",
    "from epub_checker import check_book\n",
    "from translator import Translator\n",
    "\n",
    "load_dotenv(find_dotenv())"
   ]
  },
  {
   "cell_type": "code",
   "execution_count": null,
   "id": "f0d36980",
   "metadata": {},
   "outputs": [],
   "source": [
    "input_file = \"test\"\n",
    "output_file = \"translated.epub\""
   ]
  },
  {
   "cell_type": "code",
   "execution_count": null,
   "id": "542f0816",
   "metadata": {},
   "outputs": [],
   "source": [
    "book = epub.read_epub(input_file)\n",
    "llm = ChatOpenAI(model=\"gpt-4o-mini\", temperature=0.0)\n",
    "translator = Translator(llm=llm)"
   ]
  },
  {
   "cell_type": "code",
   "execution_count": null,
   "id": "61b62ee9",
   "metadata": {},
   "outputs": [],
   "source": [
    "translated_book = translate_book(\n",
    "    book,\n",
    "    translate_with_translator,\n",
    "    debug=True,\n",
    "    translator=translator,\n",
    "    batch_size=4\n",
    ")"
   ]
  },
  {
   "cell_type": "code",
   "execution_count": null,
   "id": "8427933f",
   "metadata": {},
   "outputs": [],
   "source": [
    "if check_book(book, translated_book):\n",
    "    epub.write_epub(\"translated/\"+output_file, translated_book)\n",
    "    print(f\"Translation check passed, book saved as '{output_file}'.\")\n",
    "else:\n",
    "    raise Exception(\"Translation check failed.\")"
   ]
  }
 ],
 "metadata": {
  "kernelspec": {
   "display_name": "Python 3",
   "language": "python",
   "name": "python3"
  },
  "language_info": {
   "codemirror_mode": {
    "name": "ipython",
    "version": 3
   },
   "file_extension": ".py",
   "mimetype": "text/x-python",
   "name": "python",
   "nbconvert_exporter": "python",
   "pygments_lexer": "ipython3",
   "version": "3.11.11"
  }
 },
 "nbformat": 4,
 "nbformat_minor": 5
}
